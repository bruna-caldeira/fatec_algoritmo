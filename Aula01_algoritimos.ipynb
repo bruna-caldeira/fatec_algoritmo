{
  "nbformat": 4,
  "nbformat_minor": 0,
  "metadata": {
    "colab": {
      "provenance": [],
      "authorship_tag": "ABX9TyPNp+hkObG300DAr8g+mZQM",
      "include_colab_link": true
    },
    "kernelspec": {
      "name": "python3",
      "display_name": "Python 3"
    },
    "language_info": {
      "name": "python"
    }
  },
  "cells": [
    {
      "cell_type": "markdown",
      "metadata": {
        "id": "view-in-github",
        "colab_type": "text"
      },
      "source": [
        "<a href=\"https://colab.research.google.com/github/bruna-caldeira/fatec_algoritmo/blob/main/Aula01_algoritimos.ipynb\" target=\"_parent\"><img src=\"https://colab.research.google.com/assets/colab-badge.svg\" alt=\"Open In Colab\"/></a>"
      ]
    },
    {
      "cell_type": "code",
      "execution_count": 1,
      "metadata": {
        "colab": {
          "base_uri": "https://localhost:8080/"
        },
        "id": "wltVb-JcwOmv",
        "outputId": "a19f9094-5549-45a1-93bd-04b239b3f91f"
      },
      "outputs": [
        {
          "output_type": "execute_result",
          "data": {
            "text/plain": [
              "22"
            ]
          },
          "metadata": {},
          "execution_count": 1
        }
      ],
      "source": [
        "12+10"
      ]
    },
    {
      "cell_type": "code",
      "source": [
        "print(\"escrevendo qualquer coisa\")"
      ],
      "metadata": {
        "colab": {
          "base_uri": "https://localhost:8080/"
        },
        "id": "wxb6vpo4xKIT",
        "outputId": "3dfae243-237f-4f96-eaec-f1303301098c"
      },
      "execution_count": 2,
      "outputs": [
        {
          "output_type": "stream",
          "name": "stdout",
          "text": [
            "escrevendo qualquer coisa\n"
          ]
        }
      ]
    },
    {
      "cell_type": "markdown",
      "source": [
        "exemplo de somar dois numeros"
      ],
      "metadata": {
        "id": "lb-zgy4AxiKG"
      }
    },
    {
      "cell_type": "code",
      "source": [
        "x = 8\n",
        "y = 10"
      ],
      "metadata": {
        "id": "yMtN-ozdxkqe"
      },
      "execution_count": 5,
      "outputs": []
    },
    {
      "cell_type": "code",
      "source": [
        "print(x + y)"
      ],
      "metadata": {
        "colab": {
          "base_uri": "https://localhost:8080/"
        },
        "id": "uMdtuHGuxyQu",
        "outputId": "70acb19d-17c2-4b54-ace0-85e12f018ce8"
      },
      "execution_count": 7,
      "outputs": [
        {
          "output_type": "stream",
          "name": "stdout",
          "text": [
            "18\n"
          ]
        }
      ]
    },
    {
      "cell_type": "code",
      "source": [
        "num1 = input(\"digite um numero \")\n",
        "num2 = input(\"digite outro numero \")\n",
        "soma = num1 + num2\n",
        "print(\"a soma é :\", soma)"
      ],
      "metadata": {
        "colab": {
          "base_uri": "https://localhost:8080/"
        },
        "id": "qDCJbJgBx9x8",
        "outputId": "c0795363-a92c-4c6e-e75c-f7ec32f9d0a1"
      },
      "execution_count": 16,
      "outputs": [
        {
          "output_type": "stream",
          "name": "stdout",
          "text": [
            "digite um numero 10\n",
            "digite um numero 20\n",
            "a soma é : 1020\n"
          ]
        }
      ]
    },
    {
      "cell_type": "code",
      "source": [
        "type(num1)"
      ],
      "metadata": {
        "colab": {
          "base_uri": "https://localhost:8080/"
        },
        "id": "AfuI6i9K02S7",
        "outputId": "898a1c87-610b-40b1-d1f1-1eba30fc14cb"
      },
      "execution_count": 17,
      "outputs": [
        {
          "output_type": "execute_result",
          "data": {
            "text/plain": [
              "str"
            ]
          },
          "metadata": {},
          "execution_count": 17
        }
      ]
    },
    {
      "cell_type": "code",
      "source": [
        "num1 = int(input(\"digite um numero \"))\n",
        "num2 = int(input(\"digite outro numero \"))\n",
        "soma = num1 + num2\n",
        "print(\"a soma é :\", soma)"
      ],
      "metadata": {
        "colab": {
          "base_uri": "https://localhost:8080/"
        },
        "id": "t8Kp9Bl11FfL",
        "outputId": "8f68a783-9402-4674-d42b-c61b0cddca0c"
      },
      "execution_count": 19,
      "outputs": [
        {
          "output_type": "stream",
          "name": "stdout",
          "text": [
            "digite um numero 10\n",
            "digite outro numero 20\n",
            "a soma é : 30\n"
          ]
        }
      ]
    },
    {
      "cell_type": "markdown",
      "source": [
        "exemplo 02 - mostra o maior valor"
      ],
      "metadata": {
        "id": "iBLiDDFV2B2e"
      }
    },
    {
      "cell_type": "code",
      "source": [
        "n1 = int(input(\"digite um numero \"))\n",
        "n2 = int(input(\"digite outro numero \"))\n",
        "if(n1 > n2):\n",
        "  print(\"o maior valor é: \", n1)\n",
        "else:\n",
        "  if(n1 == n2):\n",
        "    print(\"São iguais\")\n",
        "  else:\n",
        "    print(\"o maior valor é: \", n2)\n",
        "print(\"Acabou o programa\")"
      ],
      "metadata": {
        "colab": {
          "base_uri": "https://localhost:8080/"
        },
        "id": "WRns0lS52GM2",
        "outputId": "43601f95-f472-4592-cbb9-0caf8b1bca1b"
      },
      "execution_count": 25,
      "outputs": [
        {
          "output_type": "stream",
          "name": "stdout",
          "text": [
            "digite um numero 10\n",
            "digite outro numero 10\n",
            "São iguais\n",
            "Acabou o programa\n"
          ]
        }
      ]
    }
  ]
}